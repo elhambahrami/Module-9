{
 "cells": [
  {
   "cell_type": "markdown",
   "metadata": {},
   "source": [
    "## Elham Bahrami\n",
    "### 11/04/2019\n",
    "#### I am going to ingest Community Health Survey"
   ]
  },
  {
   "cell_type": "code",
   "execution_count": 176,
   "metadata": {},
   "outputs": [],
   "source": [
    "import pandas as pd"
   ]
  },
  {
   "cell_type": "code",
   "execution_count": 177,
   "metadata": {},
   "outputs": [],
   "source": [
    "df = pd.read_csv(\"https://data.cityofnewyork.us/resource/2r9r-m6j4.csv\")"
   ]
  },
  {
   "cell_type": "markdown",
   "metadata": {},
   "source": [
    "### Let's explore the data and see what columns there are."
   ]
  },
  {
   "cell_type": "code",
   "execution_count": 178,
   "metadata": {},
   "outputs": [
    {
     "data": {
      "text/plain": [
       "(100, 6)"
      ]
     },
     "execution_count": 178,
     "metadata": {},
     "output_type": "execute_result"
    }
   ],
   "source": [
    "df.shape"
   ]
  },
  {
   "cell_type": "code",
   "execution_count": 179,
   "metadata": {},
   "outputs": [
    {
     "data": {
      "text/plain": [
       "Index(['survey', 'question', 'year', 'prevalence', 'lower95_ci', 'upper95_ci'], dtype='object')"
      ]
     },
     "execution_count": 179,
     "metadata": {},
     "output_type": "execute_result"
    }
   ],
   "source": [
    "df.columns"
   ]
  },
  {
   "cell_type": "code",
   "execution_count": 180,
   "metadata": {},
   "outputs": [
    {
     "data": {
      "text/html": [
       "<div>\n",
       "<style scoped>\n",
       "    .dataframe tbody tr th:only-of-type {\n",
       "        vertical-align: middle;\n",
       "    }\n",
       "\n",
       "    .dataframe tbody tr th {\n",
       "        vertical-align: top;\n",
       "    }\n",
       "\n",
       "    .dataframe thead th {\n",
       "        text-align: right;\n",
       "    }\n",
       "</style>\n",
       "<table border=\"1\" class=\"dataframe\">\n",
       "  <thead>\n",
       "    <tr style=\"text-align: right;\">\n",
       "      <th></th>\n",
       "      <th>survey</th>\n",
       "      <th>question</th>\n",
       "      <th>year</th>\n",
       "      <th>prevalence</th>\n",
       "      <th>lower95_ci</th>\n",
       "      <th>upper95_ci</th>\n",
       "    </tr>\n",
       "  </thead>\n",
       "  <tbody>\n",
       "    <tr>\n",
       "      <th>0</th>\n",
       "      <td>CHS</td>\n",
       "      <td>Health Insurance Coverage</td>\n",
       "      <td>2010</td>\n",
       "      <td>83.3</td>\n",
       "      <td>82.0</td>\n",
       "      <td>84.6</td>\n",
       "    </tr>\n",
       "    <tr>\n",
       "      <th>1</th>\n",
       "      <td>CHS</td>\n",
       "      <td>Health Insurance Coverage</td>\n",
       "      <td>2010</td>\n",
       "      <td>83.3</td>\n",
       "      <td>82.0</td>\n",
       "      <td>84.6</td>\n",
       "    </tr>\n",
       "    <tr>\n",
       "      <th>2</th>\n",
       "      <td>CHS</td>\n",
       "      <td>Did not get needed medical care</td>\n",
       "      <td>2010</td>\n",
       "      <td>10.3</td>\n",
       "      <td>9.4</td>\n",
       "      <td>11.4</td>\n",
       "    </tr>\n",
       "    <tr>\n",
       "      <th>3</th>\n",
       "      <td>CHS</td>\n",
       "      <td>Did not get needed medical care</td>\n",
       "      <td>2010</td>\n",
       "      <td>10.3</td>\n",
       "      <td>9.4</td>\n",
       "      <td>11.4</td>\n",
       "    </tr>\n",
       "    <tr>\n",
       "      <th>4</th>\n",
       "      <td>CHS</td>\n",
       "      <td>No Personal Doctor</td>\n",
       "      <td>2010</td>\n",
       "      <td>NaN</td>\n",
       "      <td>NaN</td>\n",
       "      <td>NaN</td>\n",
       "    </tr>\n",
       "  </tbody>\n",
       "</table>\n",
       "</div>"
      ],
      "text/plain": [
       "  survey                         question  year  prevalence  lower95_ci  \\\n",
       "0    CHS        Health Insurance Coverage  2010        83.3        82.0   \n",
       "1    CHS        Health Insurance Coverage  2010        83.3        82.0   \n",
       "2    CHS  Did not get needed medical care  2010        10.3         9.4   \n",
       "3    CHS  Did not get needed medical care  2010        10.3         9.4   \n",
       "4    CHS               No Personal Doctor  2010         NaN         NaN   \n",
       "\n",
       "   upper95_ci  \n",
       "0        84.6  \n",
       "1        84.6  \n",
       "2        11.4  \n",
       "3        11.4  \n",
       "4         NaN  "
      ]
     },
     "execution_count": 180,
     "metadata": {},
     "output_type": "execute_result"
    }
   ],
   "source": [
    "df.head()"
   ]
  },
  {
   "cell_type": "code",
   "execution_count": 181,
   "metadata": {},
   "outputs": [
    {
     "name": "stdout",
     "output_type": "stream",
     "text": [
      "<class 'pandas.core.frame.DataFrame'>\n",
      "RangeIndex: 100 entries, 0 to 99\n",
      "Data columns (total 6 columns):\n",
      "survey        100 non-null object\n",
      "question      100 non-null object\n",
      "year          100 non-null int64\n",
      "prevalence    96 non-null float64\n",
      "lower95_ci    96 non-null float64\n",
      "upper95_ci    96 non-null float64\n",
      "dtypes: float64(3), int64(1), object(2)\n",
      "memory usage: 4.8+ KB\n"
     ]
    }
   ],
   "source": [
    "df.info()"
   ]
  },
  {
   "cell_type": "code",
   "execution_count": 182,
   "metadata": {},
   "outputs": [
    {
     "data": {
      "text/plain": [
       "survey        0\n",
       "question      0\n",
       "year          0\n",
       "prevalence    4\n",
       "lower95_ci    4\n",
       "upper95_ci    4\n",
       "dtype: int64"
      ]
     },
     "execution_count": 182,
     "metadata": {},
     "output_type": "execute_result"
    }
   ],
   "source": [
    "# how many missing values there are in the data;\n",
    "df.isnull().sum()"
   ]
  },
  {
   "cell_type": "code",
   "execution_count": 183,
   "metadata": {},
   "outputs": [],
   "source": [
    "# Since the missing values are not that many so I just remove them.\n",
    "df = df.dropna()"
   ]
  },
  {
   "cell_type": "code",
   "execution_count": 184,
   "metadata": {},
   "outputs": [
    {
     "data": {
      "text/plain": [
       "(96, 6)"
      ]
     },
     "execution_count": 184,
     "metadata": {},
     "output_type": "execute_result"
    }
   ],
   "source": [
    "df.shape"
   ]
  },
  {
   "cell_type": "code",
   "execution_count": 185,
   "metadata": {},
   "outputs": [
    {
     "data": {
      "text/plain": [
       "survey        0\n",
       "question      0\n",
       "year          0\n",
       "prevalence    0\n",
       "lower95_ci    0\n",
       "upper95_ci    0\n",
       "dtype: int64"
      ]
     },
     "execution_count": 185,
     "metadata": {},
     "output_type": "execute_result"
    }
   ],
   "source": [
    "df.isnull().sum()"
   ]
  },
  {
   "cell_type": "code",
   "execution_count": 186,
   "metadata": {},
   "outputs": [
    {
     "data": {
      "text/html": [
       "<div>\n",
       "<style scoped>\n",
       "    .dataframe tbody tr th:only-of-type {\n",
       "        vertical-align: middle;\n",
       "    }\n",
       "\n",
       "    .dataframe tbody tr th {\n",
       "        vertical-align: top;\n",
       "    }\n",
       "\n",
       "    .dataframe thead th {\n",
       "        text-align: right;\n",
       "    }\n",
       "</style>\n",
       "<table border=\"1\" class=\"dataframe\">\n",
       "  <thead>\n",
       "    <tr style=\"text-align: right;\">\n",
       "      <th></th>\n",
       "      <th>year</th>\n",
       "      <th>prevalence</th>\n",
       "      <th>lower95_ci</th>\n",
       "      <th>upper95_ci</th>\n",
       "    </tr>\n",
       "  </thead>\n",
       "  <tbody>\n",
       "    <tr>\n",
       "      <th>count</th>\n",
       "      <td>96.000000</td>\n",
       "      <td>96.000000</td>\n",
       "      <td>96.000000</td>\n",
       "      <td>96.000000</td>\n",
       "    </tr>\n",
       "    <tr>\n",
       "      <th>mean</th>\n",
       "      <td>2012.083333</td>\n",
       "      <td>41.454167</td>\n",
       "      <td>39.895833</td>\n",
       "      <td>43.010417</td>\n",
       "    </tr>\n",
       "    <tr>\n",
       "      <th>std</th>\n",
       "      <td>1.389181</td>\n",
       "      <td>27.862187</td>\n",
       "      <td>27.550619</td>\n",
       "      <td>28.099981</td>\n",
       "    </tr>\n",
       "    <tr>\n",
       "      <th>min</th>\n",
       "      <td>2010.000000</td>\n",
       "      <td>9.600000</td>\n",
       "      <td>8.700000</td>\n",
       "      <td>10.500000</td>\n",
       "    </tr>\n",
       "    <tr>\n",
       "      <th>25%</th>\n",
       "      <td>2011.000000</td>\n",
       "      <td>16.800000</td>\n",
       "      <td>15.475000</td>\n",
       "      <td>18.300000</td>\n",
       "    </tr>\n",
       "    <tr>\n",
       "      <th>50%</th>\n",
       "      <td>2012.000000</td>\n",
       "      <td>24.450000</td>\n",
       "      <td>23.100000</td>\n",
       "      <td>25.750000</td>\n",
       "    </tr>\n",
       "    <tr>\n",
       "      <th>75%</th>\n",
       "      <td>2013.000000</td>\n",
       "      <td>68.700000</td>\n",
       "      <td>66.475000</td>\n",
       "      <td>70.850000</td>\n",
       "    </tr>\n",
       "    <tr>\n",
       "      <th>max</th>\n",
       "      <td>2014.000000</td>\n",
       "      <td>86.200000</td>\n",
       "      <td>85.200000</td>\n",
       "      <td>87.200000</td>\n",
       "    </tr>\n",
       "  </tbody>\n",
       "</table>\n",
       "</div>"
      ],
      "text/plain": [
       "              year  prevalence  lower95_ci  upper95_ci\n",
       "count    96.000000   96.000000   96.000000   96.000000\n",
       "mean   2012.083333   41.454167   39.895833   43.010417\n",
       "std       1.389181   27.862187   27.550619   28.099981\n",
       "min    2010.000000    9.600000    8.700000   10.500000\n",
       "25%    2011.000000   16.800000   15.475000   18.300000\n",
       "50%    2012.000000   24.450000   23.100000   25.750000\n",
       "75%    2013.000000   68.700000   66.475000   70.850000\n",
       "max    2014.000000   86.200000   85.200000   87.200000"
      ]
     },
     "execution_count": 186,
     "metadata": {},
     "output_type": "execute_result"
    }
   ],
   "source": [
    "df.describe()"
   ]
  },
  {
   "cell_type": "code",
   "execution_count": 187,
   "metadata": {},
   "outputs": [],
   "source": [
    "# Slicing the data to have columns:'year', 'question', 'prevalence'\n",
    "df2 = df[['year', 'question','prevalence']]"
   ]
  },
  {
   "cell_type": "code",
   "execution_count": 188,
   "metadata": {},
   "outputs": [
    {
     "data": {
      "text/html": [
       "<div>\n",
       "<style scoped>\n",
       "    .dataframe tbody tr th:only-of-type {\n",
       "        vertical-align: middle;\n",
       "    }\n",
       "\n",
       "    .dataframe tbody tr th {\n",
       "        vertical-align: top;\n",
       "    }\n",
       "\n",
       "    .dataframe thead th {\n",
       "        text-align: right;\n",
       "    }\n",
       "</style>\n",
       "<table border=\"1\" class=\"dataframe\">\n",
       "  <thead>\n",
       "    <tr style=\"text-align: right;\">\n",
       "      <th></th>\n",
       "      <th>year</th>\n",
       "      <th>question</th>\n",
       "      <th>prevalence</th>\n",
       "    </tr>\n",
       "  </thead>\n",
       "  <tbody>\n",
       "    <tr>\n",
       "      <th>0</th>\n",
       "      <td>2010</td>\n",
       "      <td>Health Insurance Coverage</td>\n",
       "      <td>83.3</td>\n",
       "    </tr>\n",
       "    <tr>\n",
       "      <th>1</th>\n",
       "      <td>2010</td>\n",
       "      <td>Health Insurance Coverage</td>\n",
       "      <td>83.3</td>\n",
       "    </tr>\n",
       "    <tr>\n",
       "      <th>2</th>\n",
       "      <td>2010</td>\n",
       "      <td>Did not get needed medical care</td>\n",
       "      <td>10.3</td>\n",
       "    </tr>\n",
       "    <tr>\n",
       "      <th>3</th>\n",
       "      <td>2010</td>\n",
       "      <td>Did not get needed medical care</td>\n",
       "      <td>10.3</td>\n",
       "    </tr>\n",
       "    <tr>\n",
       "      <th>6</th>\n",
       "      <td>2010</td>\n",
       "      <td>Drinks 1 or more sugar-sweetened beverages per...</td>\n",
       "      <td>30.3</td>\n",
       "    </tr>\n",
       "  </tbody>\n",
       "</table>\n",
       "</div>"
      ],
      "text/plain": [
       "   year                                           question  prevalence\n",
       "0  2010                          Health Insurance Coverage        83.3\n",
       "1  2010                          Health Insurance Coverage        83.3\n",
       "2  2010                    Did not get needed medical care        10.3\n",
       "3  2010                    Did not get needed medical care        10.3\n",
       "6  2010  Drinks 1 or more sugar-sweetened beverages per...        30.3"
      ]
     },
     "execution_count": 188,
     "metadata": {},
     "output_type": "execute_result"
    }
   ],
   "source": [
    "df2.head()"
   ]
  },
  {
   "cell_type": "markdown",
   "metadata": {},
   "source": [
    "### Since we have some repitaions in year and question columns so it is a good idea to make the long data set wide."
   ]
  },
  {
   "cell_type": "code",
   "execution_count": 189,
   "metadata": {},
   "outputs": [],
   "source": [
    "df_question = df2.pivot_table(index='year', columns='question')"
   ]
  },
  {
   "cell_type": "code",
   "execution_count": 190,
   "metadata": {},
   "outputs": [
    {
     "data": {
      "text/html": [
       "<div>\n",
       "<style scoped>\n",
       "    .dataframe tbody tr th:only-of-type {\n",
       "        vertical-align: middle;\n",
       "    }\n",
       "\n",
       "    .dataframe tbody tr th {\n",
       "        vertical-align: top;\n",
       "    }\n",
       "\n",
       "    .dataframe thead tr th {\n",
       "        text-align: left;\n",
       "    }\n",
       "\n",
       "    .dataframe thead tr:last-of-type th {\n",
       "        text-align: right;\n",
       "    }\n",
       "</style>\n",
       "<table border=\"1\" class=\"dataframe\">\n",
       "  <thead>\n",
       "    <tr>\n",
       "      <th></th>\n",
       "      <th colspan=\"10\" halign=\"left\">prevalence</th>\n",
       "    </tr>\n",
       "    <tr>\n",
       "      <th>question</th>\n",
       "      <th>Binge Drinking</th>\n",
       "      <th>Colon cancer screening, adults age 50+ (colonoscopy)</th>\n",
       "      <th>Did not get needed medical care</th>\n",
       "      <th>Drinks 1 or more sugar-sweetened beverages per day</th>\n",
       "      <th>Flu shot in last 12 months, adults ages 65+ (not age-adjusted)</th>\n",
       "      <th>Health Insurance Coverage</th>\n",
       "      <th>No Personal Doctor</th>\n",
       "      <th>Obesity</th>\n",
       "      <th>Self-reported Health Status (excellent/very good/good)</th>\n",
       "      <th>Smoking Status (current smokers)</th>\n",
       "    </tr>\n",
       "    <tr>\n",
       "      <th>year</th>\n",
       "      <th></th>\n",
       "      <th></th>\n",
       "      <th></th>\n",
       "      <th></th>\n",
       "      <th></th>\n",
       "      <th></th>\n",
       "      <th></th>\n",
       "      <th></th>\n",
       "      <th></th>\n",
       "      <th></th>\n",
       "    </tr>\n",
       "  </thead>\n",
       "  <tbody>\n",
       "    <tr>\n",
       "      <th>2010</th>\n",
       "      <td>NaN</td>\n",
       "      <td>67.5</td>\n",
       "      <td>10.3</td>\n",
       "      <td>30.3</td>\n",
       "      <td>62.3</td>\n",
       "      <td>83.3</td>\n",
       "      <td>NaN</td>\n",
       "      <td>23.4</td>\n",
       "      <td>79.1</td>\n",
       "      <td>14.0</td>\n",
       "    </tr>\n",
       "    <tr>\n",
       "      <th>2011</th>\n",
       "      <td>17.9</td>\n",
       "      <td>68.6</td>\n",
       "      <td>10.7</td>\n",
       "      <td>29.9</td>\n",
       "      <td>67.4</td>\n",
       "      <td>81.4</td>\n",
       "      <td>16.9</td>\n",
       "      <td>23.7</td>\n",
       "      <td>78.2</td>\n",
       "      <td>14.8</td>\n",
       "    </tr>\n",
       "    <tr>\n",
       "      <th>2012</th>\n",
       "      <td>19.6</td>\n",
       "      <td>68.5</td>\n",
       "      <td>11.1</td>\n",
       "      <td>28.2</td>\n",
       "      <td>61.8</td>\n",
       "      <td>80.2</td>\n",
       "      <td>18.3</td>\n",
       "      <td>24.2</td>\n",
       "      <td>78.7</td>\n",
       "      <td>15.5</td>\n",
       "    </tr>\n",
       "    <tr>\n",
       "      <th>2013</th>\n",
       "      <td>18.2</td>\n",
       "      <td>69.0</td>\n",
       "      <td>11.2</td>\n",
       "      <td>23.3</td>\n",
       "      <td>66.8</td>\n",
       "      <td>79.1</td>\n",
       "      <td>19.1</td>\n",
       "      <td>23.4</td>\n",
       "      <td>76.9</td>\n",
       "      <td>16.1</td>\n",
       "    </tr>\n",
       "    <tr>\n",
       "      <th>2014</th>\n",
       "      <td>16.5</td>\n",
       "      <td>69.9</td>\n",
       "      <td>9.6</td>\n",
       "      <td>22.5</td>\n",
       "      <td>64.2</td>\n",
       "      <td>86.2</td>\n",
       "      <td>15.6</td>\n",
       "      <td>24.7</td>\n",
       "      <td>77.8</td>\n",
       "      <td>13.9</td>\n",
       "    </tr>\n",
       "  </tbody>\n",
       "</table>\n",
       "</div>"
      ],
      "text/plain": [
       "             prevalence                                                       \\\n",
       "question Binge Drinking Colon cancer screening, adults age 50+ (colonoscopy)   \n",
       "year                                                                           \n",
       "2010                NaN                                               67.5     \n",
       "2011               17.9                                               68.6     \n",
       "2012               19.6                                               68.5     \n",
       "2013               18.2                                               69.0     \n",
       "2014               16.5                                               69.9     \n",
       "\n",
       "                                          \\\n",
       "question Did not get needed medical care   \n",
       "year                                       \n",
       "2010                                10.3   \n",
       "2011                                10.7   \n",
       "2012                                11.1   \n",
       "2013                                11.2   \n",
       "2014                                 9.6   \n",
       "\n",
       "                                                             \\\n",
       "question Drinks 1 or more sugar-sweetened beverages per day   \n",
       "year                                                          \n",
       "2010                                                   30.3   \n",
       "2011                                                   29.9   \n",
       "2012                                                   28.2   \n",
       "2013                                                   23.3   \n",
       "2014                                                   22.5   \n",
       "\n",
       "                                                                         \\\n",
       "question Flu shot in last 12 months, adults ages 65+ (not age-adjusted)   \n",
       "year                                                                      \n",
       "2010                                                   62.3               \n",
       "2011                                                   67.4               \n",
       "2012                                                   61.8               \n",
       "2013                                                   66.8               \n",
       "2014                                                   64.2               \n",
       "\n",
       "                                                               \\\n",
       "question Health Insurance Coverage No Personal Doctor Obesity   \n",
       "year                                                            \n",
       "2010                          83.3                NaN    23.4   \n",
       "2011                          81.4               16.9    23.7   \n",
       "2012                          80.2               18.3    24.2   \n",
       "2013                          79.1               19.1    23.4   \n",
       "2014                          86.2               15.6    24.7   \n",
       "\n",
       "                                                                 \\\n",
       "question Self-reported Health Status (excellent/very good/good)   \n",
       "year                                                              \n",
       "2010                                                   79.1       \n",
       "2011                                                   78.2       \n",
       "2012                                                   78.7       \n",
       "2013                                                   76.9       \n",
       "2014                                                   77.8       \n",
       "\n",
       "                                           \n",
       "question Smoking Status (current smokers)  \n",
       "year                                       \n",
       "2010                                 14.0  \n",
       "2011                                 14.8  \n",
       "2012                                 15.5  \n",
       "2013                                 16.1  \n",
       "2014                                 13.9  "
      ]
     },
     "execution_count": 190,
     "metadata": {},
     "output_type": "execute_result"
    }
   ],
   "source": [
    "# Making question as column index and year as row index.\n",
    "df_question.head()"
   ]
  },
  {
   "cell_type": "code",
   "execution_count": 191,
   "metadata": {},
   "outputs": [],
   "source": [
    "# Making year as column index and question as row index.\n",
    "df_year = df2.pivot_table(index='question', columns='year')"
   ]
  },
  {
   "cell_type": "code",
   "execution_count": 192,
   "metadata": {},
   "outputs": [
    {
     "data": {
      "text/html": [
       "<div>\n",
       "<style scoped>\n",
       "    .dataframe tbody tr th:only-of-type {\n",
       "        vertical-align: middle;\n",
       "    }\n",
       "\n",
       "    .dataframe tbody tr th {\n",
       "        vertical-align: top;\n",
       "    }\n",
       "\n",
       "    .dataframe thead tr th {\n",
       "        text-align: left;\n",
       "    }\n",
       "\n",
       "    .dataframe thead tr:last-of-type th {\n",
       "        text-align: right;\n",
       "    }\n",
       "</style>\n",
       "<table border=\"1\" class=\"dataframe\">\n",
       "  <thead>\n",
       "    <tr>\n",
       "      <th></th>\n",
       "      <th colspan=\"5\" halign=\"left\">prevalence</th>\n",
       "    </tr>\n",
       "    <tr>\n",
       "      <th>year</th>\n",
       "      <th>2010</th>\n",
       "      <th>2011</th>\n",
       "      <th>2012</th>\n",
       "      <th>2013</th>\n",
       "      <th>2014</th>\n",
       "    </tr>\n",
       "    <tr>\n",
       "      <th>question</th>\n",
       "      <th></th>\n",
       "      <th></th>\n",
       "      <th></th>\n",
       "      <th></th>\n",
       "      <th></th>\n",
       "    </tr>\n",
       "  </thead>\n",
       "  <tbody>\n",
       "    <tr>\n",
       "      <th>Binge Drinking</th>\n",
       "      <td>NaN</td>\n",
       "      <td>17.9</td>\n",
       "      <td>19.6</td>\n",
       "      <td>18.2</td>\n",
       "      <td>16.5</td>\n",
       "    </tr>\n",
       "    <tr>\n",
       "      <th>Colon cancer screening, adults age 50+ (colonoscopy)</th>\n",
       "      <td>67.5</td>\n",
       "      <td>68.6</td>\n",
       "      <td>68.5</td>\n",
       "      <td>69.0</td>\n",
       "      <td>69.9</td>\n",
       "    </tr>\n",
       "    <tr>\n",
       "      <th>Did not get needed medical care</th>\n",
       "      <td>10.3</td>\n",
       "      <td>10.7</td>\n",
       "      <td>11.1</td>\n",
       "      <td>11.2</td>\n",
       "      <td>9.6</td>\n",
       "    </tr>\n",
       "    <tr>\n",
       "      <th>Drinks 1 or more sugar-sweetened beverages per day</th>\n",
       "      <td>30.3</td>\n",
       "      <td>29.9</td>\n",
       "      <td>28.2</td>\n",
       "      <td>23.3</td>\n",
       "      <td>22.5</td>\n",
       "    </tr>\n",
       "    <tr>\n",
       "      <th>Flu shot in last 12 months, adults ages 65+ (not age-adjusted)</th>\n",
       "      <td>62.3</td>\n",
       "      <td>67.4</td>\n",
       "      <td>61.8</td>\n",
       "      <td>66.8</td>\n",
       "      <td>64.2</td>\n",
       "    </tr>\n",
       "  </tbody>\n",
       "</table>\n",
       "</div>"
      ],
      "text/plain": [
       "                                                   prevalence              \\\n",
       "year                                                     2010  2011  2012   \n",
       "question                                                                    \n",
       "Binge Drinking                                            NaN  17.9  19.6   \n",
       "Colon cancer screening, adults age 50+ (colonos...       67.5  68.6  68.5   \n",
       "Did not get needed medical care                          10.3  10.7  11.1   \n",
       "Drinks 1 or more sugar-sweetened beverages per day       30.3  29.9  28.2   \n",
       "Flu shot in last 12 months, adults ages 65+ (no...       62.3  67.4  61.8   \n",
       "\n",
       "                                                                \n",
       "year                                                2013  2014  \n",
       "question                                                        \n",
       "Binge Drinking                                      18.2  16.5  \n",
       "Colon cancer screening, adults age 50+ (colonos...  69.0  69.9  \n",
       "Did not get needed medical care                     11.2   9.6  \n",
       "Drinks 1 or more sugar-sweetened beverages per day  23.3  22.5  \n",
       "Flu shot in last 12 months, adults ages 65+ (no...  66.8  64.2  "
      ]
     },
     "execution_count": 192,
     "metadata": {},
     "output_type": "execute_result"
    }
   ],
   "source": [
    "df_year.head()"
   ]
  },
  {
   "cell_type": "markdown",
   "metadata": {},
   "source": [
    "### Here two analytic steps that I can go with the wide data;"
   ]
  },
  {
   "cell_type": "markdown",
   "metadata": {},
   "source": [
    "###  In df_question which question has the highest or lowest prevalence?"
   ]
  },
  {
   "cell_type": "code",
   "execution_count": 193,
   "metadata": {},
   "outputs": [
    {
     "data": {
      "text/plain": [
       "            question                                                      \n",
       "prevalence  Binge Drinking                                                    19.6\n",
       "            Colon cancer screening, adults age 50+ (colonoscopy)              69.9\n",
       "            Did not get needed medical care                                   11.2\n",
       "            Drinks 1 or more sugar-sweetened beverages per day                30.3\n",
       "            Flu shot in last 12 months, adults ages 65+ (not age-adjusted)    67.4\n",
       "            Health Insurance Coverage                                         86.2\n",
       "            No Personal Doctor                                                19.1\n",
       "            Obesity                                                           24.7\n",
       "            Self-reported Health Status (excellent/very good/good)            79.1\n",
       "            Smoking Status (current smokers)                                  16.1\n",
       "dtype: float64"
      ]
     },
     "execution_count": 193,
     "metadata": {},
     "output_type": "execute_result"
    }
   ],
   "source": [
    "df_question.max()"
   ]
  },
  {
   "cell_type": "markdown",
   "metadata": {},
   "source": [
    "### In df_question which year has the highest or lowest prevalence?"
   ]
  },
  {
   "cell_type": "code",
   "execution_count": 195,
   "metadata": {},
   "outputs": [
    {
     "data": {
      "text/plain": [
       "            year\n",
       "prevalence  2010    10.3\n",
       "            2011    10.7\n",
       "            2012    11.1\n",
       "            2013    11.2\n",
       "            2014     9.6\n",
       "dtype: float64"
      ]
     },
     "execution_count": 195,
     "metadata": {},
     "output_type": "execute_result"
    }
   ],
   "source": [
    "df_year.min()"
   ]
  },
  {
   "cell_type": "code",
   "execution_count": null,
   "metadata": {},
   "outputs": [],
   "source": []
  }
 ],
 "metadata": {
  "kernelspec": {
   "display_name": "Python 3",
   "language": "python",
   "name": "python3"
  },
  "language_info": {
   "codemirror_mode": {
    "name": "ipython",
    "version": 3
   },
   "file_extension": ".py",
   "mimetype": "text/x-python",
   "name": "python",
   "nbconvert_exporter": "python",
   "pygments_lexer": "ipython3",
   "version": "3.7.2"
  }
 },
 "nbformat": 4,
 "nbformat_minor": 2
}
